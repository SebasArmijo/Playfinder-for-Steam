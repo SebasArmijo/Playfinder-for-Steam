{
 "cells": [
  {
   "cell_type": "code",
   "execution_count": 1,
   "metadata": {},
   "outputs": [],
   "source": [
    "import pandas as pd\n",
    "\n",
    "path_items = '../data/processed/df_items_clean.parquet'\n",
    "path_genres = '../data/processed/df_genres_dummies.parquet'\n",
    "path_games = '../data/processed/df_games_clean.parquet'\n",
    "\n",
    "# Cargar los DataFrames desde los archivos Parquet\n",
    "df_items = pd.read_parquet(path_items)\n",
    "df_genres = pd.read_parquet(path_genres)\n",
    "df_games = pd.read_parquet(path_games)"
   ]
  },
  {
   "cell_type": "code",
   "execution_count": 2,
   "metadata": {},
   "outputs": [],
   "source": [
    "# Ensure 'game_id' is the same data type across all dataframes\n",
    "df_games['game_id'] = df_games['game_id'].astype('Int64')\n",
    "df_items['game_id'] = df_items['game_id'].astype('Int64')\n",
    "df_genres['game_id'] = df_genres['game_id'].astype('Int64')\n"
   ]
  },
  {
   "cell_type": "code",
   "execution_count": null,
   "metadata": {},
   "outputs": [],
   "source": []
  },
  {
   "cell_type": "markdown",
   "metadata": {},
   "source": []
  },
  {
   "cell_type": "markdown",
   "metadata": {},
   "source": [
    "**Function 1:**\n",
    "- `def` PlayTimeGenre( genero : str ): Debe devolver año con mas horas jugadas para dicho género.\n",
    "Ejemplo de retorno: {\"Año de lanzamiento con más horas jugadas para Género X\" : 2013}"
   ]
  },
  {
   "cell_type": "code",
   "execution_count": 3,
   "metadata": {},
   "outputs": [],
   "source": [
    "# Merge the dataframes on 'game_id'\n",
    "df_merged = pd.merge(df_items, df_games, on='game_id')\n",
    "df_merged = pd.merge(df_merged, df_genres, on='game_id')"
   ]
  },
  {
   "cell_type": "code",
   "execution_count": 4,
   "metadata": {},
   "outputs": [
    {
     "data": {
      "text/html": [
       "<div>\n",
       "<style scoped>\n",
       "    .dataframe tbody tr th:only-of-type {\n",
       "        vertical-align: middle;\n",
       "    }\n",
       "\n",
       "    .dataframe tbody tr th {\n",
       "        vertical-align: top;\n",
       "    }\n",
       "\n",
       "    .dataframe thead th {\n",
       "        text-align: right;\n",
       "    }\n",
       "</style>\n",
       "<table border=\"1\" class=\"dataframe\">\n",
       "  <thead>\n",
       "    <tr style=\"text-align: right;\">\n",
       "      <th></th>\n",
       "      <th>user_id</th>\n",
       "      <th>items_count</th>\n",
       "      <th>game_id</th>\n",
       "      <th>item_name</th>\n",
       "      <th>playtime_forever</th>\n",
       "      <th>developer</th>\n",
       "      <th>app_name</th>\n",
       "      <th>release_year</th>\n",
       "      <th>Accounting</th>\n",
       "      <th>Action</th>\n",
       "      <th>...</th>\n",
       "      <th>Photo Editing</th>\n",
       "      <th>RPG</th>\n",
       "      <th>Racing</th>\n",
       "      <th>Simulation</th>\n",
       "      <th>Software Training</th>\n",
       "      <th>Sports</th>\n",
       "      <th>Strategy</th>\n",
       "      <th>Utilities</th>\n",
       "      <th>Video Production</th>\n",
       "      <th>Web Publishing</th>\n",
       "    </tr>\n",
       "  </thead>\n",
       "  <tbody>\n",
       "    <tr>\n",
       "      <th>0</th>\n",
       "      <td>76561197970982479</td>\n",
       "      <td>277</td>\n",
       "      <td>10</td>\n",
       "      <td>Counter-Strike</td>\n",
       "      <td>6.0</td>\n",
       "      <td>Valve</td>\n",
       "      <td>Counter-Strike</td>\n",
       "      <td>2000</td>\n",
       "      <td>0</td>\n",
       "      <td>1</td>\n",
       "      <td>...</td>\n",
       "      <td>0</td>\n",
       "      <td>0</td>\n",
       "      <td>0</td>\n",
       "      <td>0</td>\n",
       "      <td>0</td>\n",
       "      <td>0</td>\n",
       "      <td>1</td>\n",
       "      <td>0</td>\n",
       "      <td>0</td>\n",
       "      <td>0</td>\n",
       "    </tr>\n",
       "    <tr>\n",
       "      <th>1</th>\n",
       "      <td>js41637</td>\n",
       "      <td>888</td>\n",
       "      <td>10</td>\n",
       "      <td>Counter-Strike</td>\n",
       "      <td>0.0</td>\n",
       "      <td>Valve</td>\n",
       "      <td>Counter-Strike</td>\n",
       "      <td>2000</td>\n",
       "      <td>0</td>\n",
       "      <td>1</td>\n",
       "      <td>...</td>\n",
       "      <td>0</td>\n",
       "      <td>0</td>\n",
       "      <td>0</td>\n",
       "      <td>0</td>\n",
       "      <td>0</td>\n",
       "      <td>0</td>\n",
       "      <td>1</td>\n",
       "      <td>0</td>\n",
       "      <td>0</td>\n",
       "      <td>0</td>\n",
       "    </tr>\n",
       "    <tr>\n",
       "      <th>2</th>\n",
       "      <td>Riot-Punch</td>\n",
       "      <td>328</td>\n",
       "      <td>10</td>\n",
       "      <td>Counter-Strike</td>\n",
       "      <td>0.0</td>\n",
       "      <td>Valve</td>\n",
       "      <td>Counter-Strike</td>\n",
       "      <td>2000</td>\n",
       "      <td>0</td>\n",
       "      <td>1</td>\n",
       "      <td>...</td>\n",
       "      <td>0</td>\n",
       "      <td>0</td>\n",
       "      <td>0</td>\n",
       "      <td>0</td>\n",
       "      <td>0</td>\n",
       "      <td>0</td>\n",
       "      <td>1</td>\n",
       "      <td>0</td>\n",
       "      <td>0</td>\n",
       "      <td>0</td>\n",
       "    </tr>\n",
       "    <tr>\n",
       "      <th>3</th>\n",
       "      <td>doctr</td>\n",
       "      <td>541</td>\n",
       "      <td>10</td>\n",
       "      <td>Counter-Strike</td>\n",
       "      <td>93.0</td>\n",
       "      <td>Valve</td>\n",
       "      <td>Counter-Strike</td>\n",
       "      <td>2000</td>\n",
       "      <td>0</td>\n",
       "      <td>1</td>\n",
       "      <td>...</td>\n",
       "      <td>0</td>\n",
       "      <td>0</td>\n",
       "      <td>0</td>\n",
       "      <td>0</td>\n",
       "      <td>0</td>\n",
       "      <td>0</td>\n",
       "      <td>1</td>\n",
       "      <td>0</td>\n",
       "      <td>0</td>\n",
       "      <td>0</td>\n",
       "    </tr>\n",
       "    <tr>\n",
       "      <th>4</th>\n",
       "      <td>corrupted_soul</td>\n",
       "      <td>115</td>\n",
       "      <td>10</td>\n",
       "      <td>Counter-Strike</td>\n",
       "      <td>108.0</td>\n",
       "      <td>Valve</td>\n",
       "      <td>Counter-Strike</td>\n",
       "      <td>2000</td>\n",
       "      <td>0</td>\n",
       "      <td>1</td>\n",
       "      <td>...</td>\n",
       "      <td>0</td>\n",
       "      <td>0</td>\n",
       "      <td>0</td>\n",
       "      <td>0</td>\n",
       "      <td>0</td>\n",
       "      <td>0</td>\n",
       "      <td>1</td>\n",
       "      <td>0</td>\n",
       "      <td>0</td>\n",
       "      <td>0</td>\n",
       "    </tr>\n",
       "  </tbody>\n",
       "</table>\n",
       "<p>5 rows × 30 columns</p>\n",
       "</div>"
      ],
      "text/plain": [
       "             user_id  items_count  game_id       item_name  playtime_forever  \\\n",
       "0  76561197970982479          277       10  Counter-Strike               6.0   \n",
       "1            js41637          888       10  Counter-Strike               0.0   \n",
       "2         Riot-Punch          328       10  Counter-Strike               0.0   \n",
       "3              doctr          541       10  Counter-Strike              93.0   \n",
       "4     corrupted_soul          115       10  Counter-Strike             108.0   \n",
       "\n",
       "  developer        app_name  release_year  Accounting  Action  ...  \\\n",
       "0     Valve  Counter-Strike          2000           0       1  ...   \n",
       "1     Valve  Counter-Strike          2000           0       1  ...   \n",
       "2     Valve  Counter-Strike          2000           0       1  ...   \n",
       "3     Valve  Counter-Strike          2000           0       1  ...   \n",
       "4     Valve  Counter-Strike          2000           0       1  ...   \n",
       "\n",
       "   Photo Editing  RPG  Racing  Simulation  Software Training  Sports  \\\n",
       "0              0    0       0           0                  0       0   \n",
       "1              0    0       0           0                  0       0   \n",
       "2              0    0       0           0                  0       0   \n",
       "3              0    0       0           0                  0       0   \n",
       "4              0    0       0           0                  0       0   \n",
       "\n",
       "   Strategy  Utilities  Video Production  Web Publishing  \n",
       "0         1          0                 0               0  \n",
       "1         1          0                 0               0  \n",
       "2         1          0                 0               0  \n",
       "3         1          0                 0               0  \n",
       "4         1          0                 0               0  \n",
       "\n",
       "[5 rows x 30 columns]"
      ]
     },
     "execution_count": 4,
     "metadata": {},
     "output_type": "execute_result"
    }
   ],
   "source": [
    "df_merged.head()"
   ]
  },
  {
   "cell_type": "code",
   "execution_count": 5,
   "metadata": {},
   "outputs": [],
   "source": [
    "# Function to find the year with the most playtime for a given genre\n",
    "def PlayTimeGenre(genre, df):\n",
    "    genre_df = df[df[genre] == 1]\n",
    "    playtime_by_year = genre_df.groupby('release_year')['playtime_forever'].sum().reset_index()\n",
    "    max_playtime_year = playtime_by_year.loc[playtime_by_year['playtime_forever'].idxmax()]['release_year']\n",
    "    max_playtime_year = int(max_playtime_year)  \n",
    "    return {\"Año de lanzamiento con más horas jugadas para Género\": genre, \"Año\": max_playtime_year}\n"
   ]
  },
  {
   "cell_type": "code",
   "execution_count": 6,
   "metadata": {},
   "outputs": [
    {
     "name": "stdout",
     "output_type": "stream",
     "text": [
      "{'Año de lanzamiento con más horas jugadas para Género': 'Education', 'Año': 2010}\n"
     ]
    }
   ],
   "source": [
    "# Example usage of PlayTimeGenre function\n",
    "print(PlayTimeGenre('Education', df_merged))\n"
   ]
  },
  {
   "cell_type": "code",
   "execution_count": 7,
   "metadata": {},
   "outputs": [
    {
     "name": "stdout",
     "output_type": "stream",
     "text": [
      "List of genres: ['Accounting', 'Action', 'Adventure', 'Animation & Modeling', 'Audio Production', 'Casual', 'Design & Illustration', 'Early Access', 'Education', 'Free to Play', 'Indie', 'Massively Multiplayer', 'Photo Editing', 'RPG', 'Racing', 'Simulation', 'Software Training', 'Sports', 'Strategy', 'Utilities', 'Video Production', 'Web Publishing']\n"
     ]
    }
   ],
   "source": [
    "# Function to list all genres in the dataframe\n",
    "def list_genres(df):\n",
    "    return df.columns.tolist()[1:]\n",
    "\n",
    "# Example usage of list_genres function\n",
    "print(\"List of genres:\", list_genres(df_genres))"
   ]
  },
  {
   "cell_type": "code",
   "execution_count": null,
   "metadata": {},
   "outputs": [],
   "source": []
  }
 ],
 "metadata": {
  "kernelspec": {
   "display_name": "Python 3",
   "language": "python",
   "name": "python3"
  },
  "language_info": {
   "codemirror_mode": {
    "name": "ipython",
    "version": 3
   },
   "file_extension": ".py",
   "mimetype": "text/x-python",
   "name": "python",
   "nbconvert_exporter": "python",
   "pygments_lexer": "ipython3",
   "version": "3.11.2"
  }
 },
 "nbformat": 4,
 "nbformat_minor": 2
}
